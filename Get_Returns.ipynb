{
 "cells": [
  {
   "cell_type": "markdown",
   "metadata": {
    "id": "pKv96-_HXCoZ"
   },
   "source": [
    "# Downloading Stock Data and Saving a CSV or Excel file\n",
    "\n",
    "---\n",
    "\n",
    "\n"
   ]
  },
  {
   "cell_type": "markdown",
   "metadata": {
    "id": "Z7olY0XYXAKa"
   },
   "source": [
    "This document describes the code that can be used to download stock-price data from yahoo.\n",
    "Particularly, we will download the adjusted close prices for some selected stocks. We will then calculate returns. Finally, we will save these returns in a CSV or Excel file.\n",
    "Based on these prices.\n",
    "\n",
    "In a first step we will load all the necessary packages. This requires that these packages are already installed. It is possible to install packages directly from a Jupyter notebook/lab with the following: `! pip install --user <package>`. For example write `! pip install pandas`."
   ]
  },
  {
   "cell_type": "code",
   "execution_count": 1,
   "metadata": {
    "executionInfo": {
     "elapsed": 563,
     "status": "ok",
     "timestamp": 1614462934044,
     "user": {
      "displayName": "Denis Becker",
      "photoUrl": "",
      "userId": "07043544201496304245"
     },
     "user_tz": -60
    },
    "id": "BS2P2ct5Whuh"
   },
   "outputs": [],
   "source": [
    "import pandas as pd\n",
    "import numpy as np\n",
    "import yfinance as yf"
   ]
  },
  {
   "cell_type": "markdown",
   "metadata": {
    "id": "U7XhK9Y9YLk1"
   },
   "source": [
    "We will now specify a list of tickers, for which we will download the stock prices."
   ]
  },
  {
   "cell_type": "code",
   "execution_count": 2,
   "metadata": {
    "executionInfo": {
     "elapsed": 921,
     "status": "ok",
     "timestamp": 1614462934420,
     "user": {
      "displayName": "Denis Becker",
      "photoUrl": "",
      "userId": "07043544201496304245"
     },
     "user_tz": -60
    },
    "id": "9z3UgbdhYUY6"
   },
   "outputs": [],
   "source": [
    "tickers = [\"AAPL\", 'AMZN', \"FB\", \"GOOG\", 'MCD', 'MSFT', 'TSLA']"
   ]
  },
  {
   "cell_type": "markdown",
   "metadata": {
    "id": "pSqJb_NMYlYI"
   },
   "source": [
    "Now we will download all tickers."
   ]
  },
  {
   "cell_type": "code",
   "execution_count": 3,
   "metadata": {},
   "outputs": [
    {
     "name": "stdout",
     "output_type": "stream",
     "text": [
      "[*********************100%***********************]  7 of 7 completed\n"
     ]
    }
   ],
   "source": [
    "price_data = yf.download(tickers=tickers, auto_adjust=True, period='max')"
   ]
  },
  {
   "cell_type": "markdown",
   "metadata": {
    "id": "m61f9S4VZbM_"
   },
   "source": [
    "In the following we compute the returns of the assets (stocks). We can here apply the pct_change (percentage change) function."
   ]
  },
  {
   "cell_type": "code",
   "execution_count": 4,
   "metadata": {},
   "outputs": [
    {
     "name": "stdout",
     "output_type": "stream",
     "text": [
      "                AAPL      AMZN        FB      GOOG       MCD      MSFT  \\\n",
      "Date                                                                     \n",
      "2012-05-21  0.058260  0.019920 -0.109861  0.022835  0.015804  0.016399   \n",
      "2012-05-22 -0.007679 -0.012746 -0.089039 -0.021674  0.000767  0.000336   \n",
      "\n",
      "                TSLA  \n",
      "Date                  \n",
      "2012-05-21  0.043904  \n",
      "2012-05-22  0.070560  \n",
      "                AAPL      AMZN        FB      GOOG       MCD      MSFT  \\\n",
      "Date                                                                     \n",
      "2022-02-03 -0.016720 -0.078128 -0.263901 -0.036383 -0.006253 -0.038952   \n",
      "2022-02-04 -0.001679  0.135359 -0.002818  0.002562 -0.002225  0.015568   \n",
      "\n",
      "                TSLA  \n",
      "Date                  \n",
      "2022-02-03 -0.016032  \n",
      "2022-02-04  0.036111  \n"
     ]
    }
   ],
   "source": [
    "Returns = price_data['Close'].pct_change(1)\n",
    "Returns = Returns.dropna(axis=0)\n",
    "print(Returns.head(2))\n",
    "print(Returns.tail(2)) "
   ]
  },
  {
   "cell_type": "markdown",
   "metadata": {
    "id": "GgVeVKzRZFHE"
   },
   "source": [
    "Let us have a look how this data frame looks like:"
   ]
  },
  {
   "cell_type": "markdown",
   "metadata": {
    "id": "CGJcdGuZZlGf"
   },
   "source": [
    "Now I will save this data frame as a CSV file"
   ]
  },
  {
   "cell_type": "code",
   "execution_count": 5,
   "metadata": {
    "executionInfo": {
     "elapsed": 4367,
     "status": "ok",
     "timestamp": 1614462937887,
     "user": {
      "displayName": "Denis Becker",
      "photoUrl": "",
      "userId": "07043544201496304245"
     },
     "user_tz": -60
    },
    "id": "cNIJNhzUZtoF"
   },
   "outputs": [],
   "source": [
    "Returns.to_csv('Stock_Returns.csv')"
   ]
  },
  {
   "cell_type": "markdown",
   "metadata": {
    "id": "51sHE5tXcz01"
   },
   "source": [
    "It is also possible to save the file driectly as an Excel file."
   ]
  },
  {
   "cell_type": "code",
   "execution_count": 6,
   "metadata": {
    "executionInfo": {
     "elapsed": 5043,
     "status": "ok",
     "timestamp": 1614462938567,
     "user": {
      "displayName": "Denis Becker",
      "photoUrl": "",
      "userId": "07043544201496304245"
     },
     "user_tz": -60
    },
    "id": "7wZRllKoc4QM"
   },
   "outputs": [],
   "source": [
    "Returns.to_excel('Stock_Returns.xlsx')"
   ]
  },
  {
   "cell_type": "markdown",
   "metadata": {},
   "source": [
    "## The End"
   ]
  }
 ],
 "metadata": {
  "colab": {
   "authorship_tag": "ABX9TyMQNUNfWvt88m+K6vU9bmmX",
   "collapsed_sections": [],
   "name": "Copy of Get_Returns.ipynb",
   "provenance": [
    {
     "file_id": "1tKZko0GzlztC2qFPomyVuUdm0zjJ6FTi",
     "timestamp": 1614463338726
    }
   ]
  },
  "kernelspec": {
   "display_name": "Python 3",
   "language": "python",
   "name": "python3"
  },
  "language_info": {
   "codemirror_mode": {
    "name": "ipython",
    "version": 3
   },
   "file_extension": ".py",
   "mimetype": "text/x-python",
   "name": "python",
   "nbconvert_exporter": "python",
   "pygments_lexer": "ipython3",
   "version": "3.9.6"
  }
 },
 "nbformat": 4,
 "nbformat_minor": 4
}
